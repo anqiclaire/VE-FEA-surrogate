{
 "cells": [
  {
   "cell_type": "markdown",
   "metadata": {},
   "source": [
    "# Example script of loading ViscoNet models\n",
    "\n",
    "This demo shows how to load the ViscoNet model artifacts and use them for inference."
   ]
  },
  {
   "cell_type": "code",
   "execution_count": 1,
   "metadata": {},
   "outputs": [],
   "source": [
    "import yaml\n",
    "import torch\n",
    "from model import SimpleANN\n",
    "from utils import VEDatasetV2\n",
    "from torch.utils.data import DataLoader"
   ]
  },
  {
   "cell_type": "code",
   "execution_count": 2,
   "metadata": {},
   "outputs": [],
   "source": [
    "experiment = \"thermoplastic2thermoplastic\" # \"thermoplastic2thermoset\"\n",
    "ve_response = \"storage_modulus\" # \"tan_delta\"\n",
    "model_code = \"VE256WDNN3\" # \"VE128np\", \"VE128\", \"VE256\", \"VE256WDNN5\"\n",
    "base_path = f\"artifacts/{experiment}/{ve_response}/{model_code}\""
   ]
  },
  {
   "cell_type": "code",
   "execution_count": 3,
   "metadata": {},
   "outputs": [
    {
     "data": {
      "text/plain": [
       "SimpleANN(\n",
       "  (activation): GELU()\n",
       "  (linear_relu_stack_with_dropout): Sequential(\n",
       "    (0): Linear(in_features=37, out_features=256, bias=True)\n",
       "    (1): GELU()\n",
       "    (2): Dropout(p=0.2, inplace=False)\n",
       "    (3): Linear(in_features=256, out_features=256, bias=True)\n",
       "    (4): GELU()\n",
       "    (5): Dropout(p=0.2, inplace=False)\n",
       "  )\n",
       "  (last_hidden): Linear(in_features=259, out_features=30, bias=True)\n",
       ")"
      ]
     },
     "execution_count": 3,
     "metadata": {},
     "output_type": "execute_result"
    }
   ],
   "source": [
    "# load config\n",
    "with open(f\"{base_path}/config.yml\", \"r\") as f:\n",
    "    config = yaml.safe_load(f)\n",
    "# init model\n",
    "model = SimpleANN(**config).to(torch.device('cpu'))\n",
    "# load weights\n",
    "model_wt = torch.load(f\"{base_path}/model.pt\", map_location='cpu')\n",
    "model.load_state_dict(model_wt)\n",
    "model.eval()"
   ]
  },
  {
   "cell_type": "code",
   "execution_count": 4,
   "metadata": {},
   "outputs": [],
   "source": [
    "BATCH_SIZE = 10\n",
    "NUM_WORKERS = 0\n",
    "dataset = VEDatasetV2([\"example_data/example_ep.json\"],**config) # \"example_tand.json\"\n",
    "dataloader = DataLoader(dataset, batch_size = BATCH_SIZE, num_workers = NUM_WORKERS)"
   ]
  },
  {
   "cell_type": "code",
   "execution_count": 5,
   "metadata": {},
   "outputs": [
    {
     "name": "stdout",
     "output_type": "stream",
     "text": [
      "Raw prediction:\n",
      "tensor([[0.4003, 0.4125, 0.4267,  ..., 0.9740, 0.9914, 1.0063],\n",
      "        [0.2918, 0.3109, 0.3323,  ..., 0.9252, 0.9379, 0.9505],\n",
      "        [0.2371, 0.2515, 0.2661,  ..., 0.9846, 1.0037, 1.0205],\n",
      "        ...,\n",
      "        [0.2419, 0.2574, 0.2735,  ..., 0.9848, 0.9980, 1.0090],\n",
      "        [0.1950, 0.2166, 0.2377,  ..., 0.9940, 1.0092, 1.0216],\n",
      "        [0.0493, 0.0713, 0.0924,  ..., 1.0010, 1.0162, 1.0281]])\n",
      "Scaled-back prediction:\n",
      "tensor([[6.8151, 6.8620, 6.9167,  ..., 9.0179, 9.0848, 9.1421],\n",
      "        [6.3986, 6.4721, 6.5541,  ..., 8.8305, 8.8794, 8.9278],\n",
      "        [6.1886, 6.2439, 6.2999,  ..., 9.0586, 9.1322, 9.1964],\n",
      "        ...,\n",
      "        [6.2071, 6.2666, 6.3284,  ..., 9.0594, 9.1101, 9.1526],\n",
      "        [6.0271, 6.1097, 6.1907,  ..., 9.0946, 9.1533, 9.2008],\n",
      "        [5.4677, 5.5518, 5.6331,  ..., 9.1218, 9.1800, 9.2258]],\n",
      "       dtype=torch.float64)\n"
     ]
    }
   ],
   "source": [
    "results = []\n",
    "with torch.no_grad():\n",
    "    # take one batch as example\n",
    "    for batch in dataloader:\n",
    "        results.append(model(batch[\"input\"]))\n",
    "# model generates raw prediction that needs to be scaled back\n",
    "results = torch.cat(results)\n",
    "print(\"Raw prediction:\")\n",
    "print(results)\n",
    "# scale back with the dataset routine\n",
    "scaled_back = dataset.scale_back(results, ve_id=0)\n",
    "print(\"Scaled-back prediction:\")\n",
    "print(scaled_back)"
   ]
  },
  {
   "cell_type": "code",
   "execution_count": null,
   "metadata": {},
   "outputs": [],
   "source": []
  }
 ],
 "metadata": {
  "kernelspec": {
   "display_name": "Python 3",
   "language": "python",
   "name": "python3"
  },
  "language_info": {
   "codemirror_mode": {
    "name": "ipython",
    "version": 3
   },
   "file_extension": ".py",
   "mimetype": "text/x-python",
   "name": "python",
   "nbconvert_exporter": "python",
   "pygments_lexer": "ipython3",
   "version": "3.7.6"
  }
 },
 "nbformat": 4,
 "nbformat_minor": 2
}
